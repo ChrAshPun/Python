{
 "cells": [
  {
   "cell_type": "code",
   "execution_count": 1,
   "metadata": {},
   "outputs": [
    {
     "name": "stdout",
     "output_type": "stream",
     "text": [
      "    A   B   C   D   E\n",
      "   ------------------- \n",
      "5 |   |   |   |   |   |\n",
      "  |-------------------|\n",
      "4 |   |   |   |   |   |\n",
      "  |-------------------|\n",
      "3 |   |   |   |   |   |\n",
      "  |-------------------|\n",
      "2 |   |   |   |   |   |\n",
      "  |-------------------|\n",
      "1 |   |   |   |   |   |\n",
      "  |-------------------|\n",
      "  |||||||||||||||||||||\n",
      "  |-------------------|\n",
      "5 |   |   |   |   |   |\n",
      "  |-------------------|\n",
      "4 |   |   |   |   |   |\n",
      "  |-------------------|\n",
      "3 |   |   |   |   |   |\n",
      "  |-------------------|\n",
      "2 |   |   |   |   |   |\n",
      "  |-------------------|\n",
      "1 |   |   |   |   |   |\n",
      "   ------------------- \n",
      "    A   B   C   D   E\n",
      "    A   B   C   D   E\n",
      "   ------------------- \n",
      "5 | 5 | 5 | 5 | 5 | 5 |\n",
      "  |-------------------|\n",
      "4 | 4 | 4 | 4 | 4 | 4 |\n",
      "  |-------------------|\n",
      "3 | 3 | 3 | 3 | 3 | 3 |\n",
      "  |-------------------|\n",
      "2 | 2 | 2 | 2 | 2 | 2 |\n",
      "  |-------------------|\n",
      "1 | 1 | 1 | 1 | 1 | 1 |\n",
      "  |-------------------|\n",
      "  |||||||||||||||||||||\n",
      "  |-------------------|\n",
      "5 | 5 | 5 | 5 | 5 | 5 |\n",
      "  |-------------------|\n",
      "4 | 4 | 4 | 4 | 4 | 4 |\n",
      "  |-------------------|\n",
      "3 | 3 | 3 | 3 | 3 | 3 |\n",
      "  |-------------------|\n",
      "2 | 2 | 2 | 2 | 2 | 2 |\n",
      "  |-------------------|\n",
      "1 | 1 | 1 | 1 | 1 | 1 |\n",
      "   ------------------- \n",
      "    A   B   C   D   E\n"
     ]
    }
   ],
   "source": [
    "def display_board(a,b):\n",
    "    \n",
    "    print(\"    A   B   C   D   E\")\n",
    "    print(\"   ------------------- \")  \n",
    "    print(\"5 | {} | {} | {} | {} | {} |\".format(b[1][5],b[2][5],b[3][5],b[4][5],b[5][5]))\n",
    "    print(\"  |-------------------|\")\n",
    "    print(\"4 | {} | {} | {} | {} | {} |\".format(b[1][4],b[2][4],b[3][4],b[4][4],b[5][4]))\n",
    "    print(\"  |-------------------|\")\n",
    "    print(\"3 | {} | {} | {} | {} | {} |\".format(b[1][3],b[2][3],b[3][3],b[4][3],b[5][3]))\n",
    "    print(\"  |-------------------|\")\n",
    "    print(\"2 | {} | {} | {} | {} | {} |\".format(b[1][2],b[2][2],b[3][2],b[4][2],b[5][2]))\n",
    "    print(\"  |-------------------|\")\n",
    "    print(\"1 | {} | {} | {} | {} | {} |\".format(b[1][1],b[2][1],b[3][1],b[4][1],b[5][1]))\n",
    "    print(\"  |-------------------|\")\n",
    "    print(\"  |||||||||||||||||||||\")\n",
    "    print(\"  |-------------------|\")  \n",
    "    print(\"5 | {} | {} | {} | {} | {} |\".format(a[1][5],a[2][5],a[3][5],a[4][5],a[5][5]))\n",
    "    print(\"  |-------------------|\")\n",
    "    print(\"4 | {} | {} | {} | {} | {} |\".format(a[1][4],a[2][4],a[3][4],a[4][4],a[5][4]))\n",
    "    print(\"  |-------------------|\")\n",
    "    print(\"3 | {} | {} | {} | {} | {} |\".format(a[1][3],a[2][3],a[3][3],a[4][3],a[5][3]))\n",
    "    print(\"  |-------------------|\")\n",
    "    print(\"2 | {} | {} | {} | {} | {} |\".format(a[1][2],a[2][2],a[3][2],a[4][2],a[5][2]))\n",
    "    print(\"  |-------------------|\")\n",
    "    print(\"1 | {} | {} | {} | {} | {} |\".format(a[1][1],a[2][1],a[3][1],a[4][1],a[5][1]))\n",
    "    print(\"   ------------------- \")\n",
    "    print(\"    A   B   C   D   E\")\n",
    "\n",
    "\n",
    "coordinates = [0] + [[x for x in [0,'1','2','3','4','5']] for x in [0,'A','B','C','D','E']]\n",
    "\n",
    "coordinates[1][5]\n",
    "\n",
    "mygrid = [[' ' for x in range(6)] for x in range(6)]\n",
    "\n",
    "aigrid = [[' ' for x in range(6)] for x in range(6)]\n",
    "\n",
    "display_board(mygrid,aigrid)\n",
    "\n",
    "display_board(coordinates,coordinates)"
   ]
  },
  {
   "cell_type": "code",
   "execution_count": 2,
   "metadata": {},
   "outputs": [],
   "source": [
    "x_coor = {'A':1,'B':2,'C':3,'D':4,'E':5}"
   ]
  },
  {
   "cell_type": "code",
   "execution_count": null,
   "metadata": {},
   "outputs": [],
   "source": [
    "# pick a coordinate and place a marker\n",
    "while True:\n",
    "    x = str(input(\"Enter a coordinate: \"))\n",
    "\n",
    "    if len(x) != 2:\n",
    "        continue\n",
    "    else:\n",
    "        if x[0].upper() in ['A','B','C','D','E'] and x[1] in ['1','2','3','4','5']:\n",
    "            print(x)\n",
    "            break\n",
    "        else:\n",
    "            continue"
   ]
  },
  {
   "cell_type": "code",
   "execution_count": 3,
   "metadata": {},
   "outputs": [],
   "source": [
    "largeship = []"
   ]
  },
  {
   "cell_type": "code",
   "execution_count": 6,
   "metadata": {},
   "outputs": [
    {
     "name": "stdout",
     "output_type": "stream",
     "text": [
      "Enter the first coordinate: b1\n"
     ]
    }
   ],
   "source": [
    "while True:\n",
    "    x = str(input(\"Enter the first coordinate: \"))\n",
    "\n",
    "    if len(x) != 2:\n",
    "        continue\n",
    "    else:\n",
    "        if x[0].upper() in ['A','B','C','D','E'] and x[1] in ['1','2','3','4','5'] and mygrid[x_coor[x[0].upper()]][int(x[1])] == ' ':\n",
    "            mygrid[x_coor[x[0].upper()]][int(x[1])] = 'O'\n",
    "            largeship.append(x)\n",
    "            break\n",
    "        else:\n",
    "            continue"
   ]
  },
  {
   "cell_type": "code",
   "execution_count": 7,
   "metadata": {},
   "outputs": [
    {
     "name": "stdout",
     "output_type": "stream",
     "text": [
      "    A   B   C   D   E\n",
      "   ------------------- \n",
      "5 |   |   |   |   |   |\n",
      "  |-------------------|\n",
      "4 |   |   |   |   |   |\n",
      "  |-------------------|\n",
      "3 |   |   |   |   |   |\n",
      "  |-------------------|\n",
      "2 |   |   |   |   |   |\n",
      "  |-------------------|\n",
      "1 |   |   |   |   |   |\n",
      "  |-------------------|\n",
      "  |||||||||||||||||||||\n",
      "  |-------------------|\n",
      "5 |   |   |   |   |   |\n",
      "  |-------------------|\n",
      "4 |   |   |   |   |   |\n",
      "  |-------------------|\n",
      "3 |   |   |   |   |   |\n",
      "  |-------------------|\n",
      "2 |   |   |   |   |   |\n",
      "  |-------------------|\n",
      "1 | O | O | O |   |   |\n",
      "   ------------------- \n",
      "    A   B   C   D   E\n"
     ]
    }
   ],
   "source": [
    "display_board(mygrid,aigrid)"
   ]
  },
  {
   "cell_type": "code",
   "execution_count": 8,
   "metadata": {},
   "outputs": [
    {
     "data": {
      "text/plain": [
       "['a1', 'c1', 'b1']"
      ]
     },
     "execution_count": 8,
     "metadata": {},
     "output_type": "execute_result"
    }
   ],
   "source": [
    "largeship"
   ]
  },
  {
   "cell_type": "code",
   "execution_count": 12,
   "metadata": {},
   "outputs": [
    {
     "data": {
      "text/plain": [
       "True"
      ]
     },
     "execution_count": 12,
     "metadata": {},
     "output_type": "execute_result"
    }
   ],
   "source": [
    "largeship[0][1] == largeship[1][1] == largeship[2][1]"
   ]
  },
  {
   "cell_type": "code",
   "execution_count": 33,
   "metadata": {},
   "outputs": [
    {
     "data": {
      "text/plain": [
       "5"
      ]
     },
     "execution_count": 33,
     "metadata": {},
     "output_type": "execute_result"
    }
   ],
   "source": [
    "x_coor[largeship[1][0].upper()] + 1"
   ]
  },
  {
   "cell_type": "code",
   "execution_count": 42,
   "metadata": {},
   "outputs": [
    {
     "data": {
      "text/plain": [
       "3"
      ]
     },
     "execution_count": 42,
     "metadata": {},
     "output_type": "execute_result"
    }
   ],
   "source": [
    "x_coor[largeship[0][0].upper()]"
   ]
  },
  {
   "cell_type": "code",
   "execution_count": 41,
   "metadata": {},
   "outputs": [
    {
     "data": {
      "text/plain": [
       "3"
      ]
     },
     "execution_count": 41,
     "metadata": {},
     "output_type": "execute_result"
    }
   ],
   "source": [
    "x_coor['C']"
   ]
  },
  {
   "cell_type": "code",
   "execution_count": 13,
   "metadata": {},
   "outputs": [],
   "source": [
    "def check_horizontal():\n",
    "    \n",
    "    if x_coor[largeship[0][0].upper()] + 1 == x_coor[largeship[1][0].upper()] and x_coor[largeship[1][0].upper()]  + 1 == x_coor[largeship[2][0].upper()]:\n",
    "        print(\"This works.\")\n",
    "    else:\n",
    "        print(\"These coordinates are not next to each other.\")"
   ]
  },
  {
   "cell_type": "code",
   "execution_count": 14,
   "metadata": {},
   "outputs": [
    {
     "name": "stdout",
     "output_type": "stream",
     "text": [
      "These coordinates are not next to each other.\n"
     ]
    }
   ],
   "source": [
    "check_horizontal()"
   ]
  },
  {
   "cell_type": "code",
   "execution_count": 11,
   "metadata": {},
   "outputs": [],
   "source": [
    "list = ['Z','A','M']"
   ]
  },
  {
   "cell_type": "code",
   "execution_count": 12,
   "metadata": {},
   "outputs": [],
   "source": [
    "list.sort()"
   ]
  },
  {
   "cell_type": "code",
   "execution_count": 13,
   "metadata": {},
   "outputs": [
    {
     "data": {
      "text/plain": [
       "['A', 'M', 'Z']"
      ]
     },
     "execution_count": 13,
     "metadata": {},
     "output_type": "execute_result"
    }
   ],
   "source": [
    "list"
   ]
  },
  {
   "cell_type": "code",
   "execution_count": 10,
   "metadata": {},
   "outputs": [
    {
     "data": {
      "text/plain": [
       "['a1', 'b1', 'c1']"
      ]
     },
     "execution_count": 10,
     "metadata": {},
     "output_type": "execute_result"
    }
   ],
   "source": [
    "largeship"
   ]
  },
  {
   "cell_type": "code",
   "execution_count": null,
   "metadata": {},
   "outputs": [],
   "source": []
  }
 ],
 "metadata": {
  "kernelspec": {
   "display_name": "Python 3",
   "language": "python",
   "name": "python3"
  },
  "language_info": {
   "codemirror_mode": {
    "name": "ipython",
    "version": 3
   },
   "file_extension": ".py",
   "mimetype": "text/x-python",
   "name": "python",
   "nbconvert_exporter": "python",
   "pygments_lexer": "ipython3",
   "version": "3.7.3"
  }
 },
 "nbformat": 4,
 "nbformat_minor": 2
}
